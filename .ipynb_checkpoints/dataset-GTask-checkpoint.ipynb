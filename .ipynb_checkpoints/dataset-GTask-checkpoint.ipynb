{
 "cells": [
  {
   "cell_type": "code",
   "execution_count": 2,
   "id": "641de33e",
   "metadata": {},
   "outputs": [
    {
     "name": "stdout",
     "output_type": "stream",
     "text": [
      "   score                                            content    label\n",
      "0      5  Aplikasi ini sudah bagus, tetapi selain centan...  POSITIF\n",
      "1      5                                       bagus google  POSITIF\n",
      "2      5  Terimakasih akun masih tersimpan dan masih bis...  POSITIF\n",
      "3      5  mencoba produktif berkarya dibantu aplikasi in...  POSITIF\n",
      "4      5                                  Sangat bermanfaat  POSITIF\n"
     ]
    }
   ],
   "source": [
    "import pandas as pd\n",
    "from textblob import TextBlob\n",
    "import inflect\n",
    "\n",
    "# Fungsi untuk memperbaiki typo\n",
    "def perbaiki_typo(teks):\n",
    "    blob = TextBlob(teks)\n",
    "    return str(blob.correct())\n",
    "\n",
    "# Inisialisasi inflect engine untuk konversi angka ke kata\n",
    "p = inflect.engine()\n",
    "\n",
    "# Fungsi untuk mengganti angka dengan kata\n",
    "def ganti_angka_dengan_kata(teks):\n",
    "    words = teks.split()\n",
    "    words = [p.number_to_words(word) if word.isdigit() else word for word in words]\n",
    "    return ' '.join(words)\n",
    "\n",
    "# Membaca file excel\n",
    "df = pd.read_excel('./dataset.xlsx')\n",
    "\n",
    "# Mengganti typo dengan kata yang benar di kolom 'content'\n",
    "df['content'] = df['content'].apply(perbaiki_typo)\n",
    "\n",
    "# Mengganti angka dengan kata di kolom 'content'\n",
    "df['content'] = df['content'].apply(ganti_angka_dengan_kata)\n",
    "\n",
    "# Menyimpan kembali ke file excel atau menampilkan hasil\n",
    "df.to_excel('prepros.xlsx', index=False)\n",
    "print(df.head())\n"
   ]
  },
  {
   "cell_type": "code",
   "execution_count": null,
   "id": "fc5832ea",
   "metadata": {},
   "outputs": [],
   "source": []
  }
 ],
 "metadata": {
  "kernelspec": {
   "display_name": "Python 3 (ipykernel)",
   "language": "python",
   "name": "python3"
  },
  "language_info": {
   "codemirror_mode": {
    "name": "ipython",
    "version": 3
   },
   "file_extension": ".py",
   "mimetype": "text/x-python",
   "name": "python",
   "nbconvert_exporter": "python",
   "pygments_lexer": "ipython3",
   "version": "3.9.7"
  }
 },
 "nbformat": 4,
 "nbformat_minor": 5
}
