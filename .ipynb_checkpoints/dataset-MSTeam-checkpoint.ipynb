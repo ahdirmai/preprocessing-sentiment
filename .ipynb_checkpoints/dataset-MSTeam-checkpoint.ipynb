{
 "cells": [
  {
   "cell_type": "code",
   "execution_count": 2,
   "id": "cf0258df",
   "metadata": {},
   "outputs": [
    {
     "name": "stderr",
     "output_type": "stream",
     "text": [
      "[nltk_data] Downloading package stopwords to\n",
      "[nltk_data]     C:\\Users\\User\\AppData\\Roaming\\nltk_data...\n",
      "[nltk_data]   Package stopwords is already up-to-date!\n"
     ]
    },
    {
     "name": "stdout",
     "output_type": "stream",
     "text": [
      "Original: pintar aplikasinya\n"
     ]
    },
    {
     "ename": "NameError",
     "evalue": "name 're' is not defined",
     "output_type": "error",
     "traceback": [
      "\u001b[1;31m---------------------------------------------------------------------------\u001b[0m",
      "\u001b[1;31mNameError\u001b[0m                                 Traceback (most recent call last)",
      "\u001b[1;32m~\\AppData\\Local\\Temp/ipykernel_2364/1633029031.py\u001b[0m in \u001b[0;36m<module>\u001b[1;34m\u001b[0m\n\u001b[0;32m     63\u001b[0m \u001b[1;31m#     print(f\"After typo correction: {row['content']}\")\u001b[0m\u001b[1;33m\u001b[0m\u001b[1;33m\u001b[0m\u001b[0m\n\u001b[0;32m     64\u001b[0m \u001b[1;33m\u001b[0m\u001b[0m\n\u001b[1;32m---> 65\u001b[1;33m     \u001b[0mrow\u001b[0m\u001b[1;33m[\u001b[0m\u001b[1;34m'content'\u001b[0m\u001b[1;33m]\u001b[0m \u001b[1;33m=\u001b[0m \u001b[0mganti_angka_dengan_kata\u001b[0m\u001b[1;33m(\u001b[0m\u001b[0mrow\u001b[0m\u001b[1;33m[\u001b[0m\u001b[1;34m'content'\u001b[0m\u001b[1;33m]\u001b[0m\u001b[1;33m)\u001b[0m\u001b[1;33m\u001b[0m\u001b[1;33m\u001b[0m\u001b[0m\n\u001b[0m\u001b[0;32m     66\u001b[0m     \u001b[0mprint\u001b[0m\u001b[1;33m(\u001b[0m\u001b[1;34mf\"After replacing numbers: {row['content']}\"\u001b[0m\u001b[1;33m)\u001b[0m\u001b[1;33m\u001b[0m\u001b[1;33m\u001b[0m\u001b[0m\n\u001b[0;32m     67\u001b[0m \u001b[1;33m\u001b[0m\u001b[0m\n",
      "\u001b[1;32m~\\AppData\\Local\\Temp/ipykernel_2364/1633029031.py\u001b[0m in \u001b[0;36mganti_angka_dengan_kata\u001b[1;34m(teks)\u001b[0m\n\u001b[0;32m     33\u001b[0m     \u001b[1;32mdef\u001b[0m \u001b[0mreplace\u001b[0m\u001b[1;33m(\u001b[0m\u001b[0mmatch\u001b[0m\u001b[1;33m)\u001b[0m\u001b[1;33m:\u001b[0m\u001b[1;33m\u001b[0m\u001b[1;33m\u001b[0m\u001b[0m\n\u001b[0;32m     34\u001b[0m         \u001b[1;32mreturn\u001b[0m \u001b[0mangka_to_kata\u001b[0m\u001b[1;33m[\u001b[0m\u001b[0mmatch\u001b[0m\u001b[1;33m.\u001b[0m\u001b[0mgroup\u001b[0m\u001b[1;33m(\u001b[0m\u001b[1;36m0\u001b[0m\u001b[1;33m)\u001b[0m\u001b[1;33m]\u001b[0m\u001b[1;33m\u001b[0m\u001b[1;33m\u001b[0m\u001b[0m\n\u001b[1;32m---> 35\u001b[1;33m     \u001b[1;32mreturn\u001b[0m \u001b[0mre\u001b[0m\u001b[1;33m.\u001b[0m\u001b[0msub\u001b[0m\u001b[1;33m(\u001b[0m\u001b[1;34mr'\\d'\u001b[0m\u001b[1;33m,\u001b[0m \u001b[0mreplace\u001b[0m\u001b[1;33m,\u001b[0m \u001b[0mteks\u001b[0m\u001b[1;33m)\u001b[0m\u001b[1;33m\u001b[0m\u001b[1;33m\u001b[0m\u001b[0m\n\u001b[0m\u001b[0;32m     36\u001b[0m \u001b[1;33m\u001b[0m\u001b[0m\n\u001b[0;32m     37\u001b[0m \u001b[1;31m# Fungsi untuk tokenisasi\u001b[0m\u001b[1;33m\u001b[0m\u001b[1;33m\u001b[0m\u001b[0m\n",
      "\u001b[1;31mNameError\u001b[0m: name 're' is not defined"
     ]
    }
   ],
   "source": [
    "import pandas as pd\n",
    "from textblob import TextBlob\n",
    "import inflect\n",
    "import nltk\n",
    "from Sastrawi.Stemmer.StemmerFactory import StemmerFactory\n",
    "from nltk.corpus import stopwords\n",
    "\n",
    "# Download stopwords untuk nltk\n",
    "nltk.download('stopwords')\n",
    "\n",
    "# Inisialisasi inflect engine untuk konversi angka ke kata\n",
    "p = inflect.engine()\n",
    "\n",
    "# Inisialisasi stemmer Bahasa Indonesia dari Sastrawi\n",
    "factory = StemmerFactory()\n",
    "stemmer = factory.create_stemmer()\n",
    "\n",
    "# Mengambil daftar stopwords bahasa Indonesia\n",
    "stop_words = set(stopwords.words('indonesian'))\n",
    "\n",
    "# Fungsi untuk memperbaiki typo\n",
    "# def perbaiki_typo(teks):\n",
    "#     blob = TextBlob(teks)\n",
    "#     return str(blob.correct())\n",
    "\n",
    "angka_to_kata = {\n",
    "    '0': 'nol', '1': 'satu', '2': 'dua', '3': 'tiga', '4': 'empat',\n",
    "    '5': 'lima', '6': 'enam', '7': 'tujuh', '8': 'delapan', '9': 'sembilan'\n",
    "}\n",
    "\n",
    "# Fungsi untuk mengganti angka dengan kata\n",
    "def ganti_angka_dengan_kata(teks):\n",
    "    def replace(match):\n",
    "        return angka_to_kata[match.group(0)]\n",
    "    return re.sub(r'\\d', replace, teks)\n",
    "\n",
    "# Fungsi untuk tokenisasi\n",
    "def tokenize(teks):\n",
    "    return teks.split()\n",
    "\n",
    "# Fungsi untuk transformasi kasus (menjadi huruf kecil)\n",
    "def transform_case(teks):\n",
    "    return teks.lower()\n",
    "\n",
    "# Fungsi untuk menghapus stopwords\n",
    "def hapus_stopwords(teks):\n",
    "    tokens = teks.split()\n",
    "    tokens = [word for word in tokens if word not in stop_words]\n",
    "    return ' '.join(tokens)\n",
    "\n",
    "# Fungsi untuk stemming\n",
    "def stem_text(teks):\n",
    "    return stemmer.stem(teks)\n",
    "\n",
    "# Membaca file excel\n",
    "df = pd.read_excel('./dataset-MSTeam.xlsx')\n",
    "\n",
    "# Proses preprocessing dengan cetakan proses\n",
    "for index, row in df.iterrows():\n",
    "    print(f\"Original: {row['content']}\")\n",
    "\n",
    "#     row['content'] = perbaiki_typo(row['content'])\n",
    "#     print(f\"After typo correction: {row['content']}\")\n",
    "\n",
    "    row['content'] = ganti_angka_dengan_kata(row['content'])\n",
    "    print(f\"After replacing numbers: {row['content']}\")\n",
    "\n",
    "    row['content'] = transform_case(row['content'])\n",
    "    print(f\"After case transformation: {row['content']}\")\n",
    "\n",
    "    tokens = tokenize(row['content'])\n",
    "    print(f\"After tokenization: {tokens}\")\n",
    "\n",
    "    row['content'] = ' '.join(tokens)\n",
    "    row['content'] = hapus_stopwords(row['content'])\n",
    "    print(f\"After stopword removal: {row['content']}\")\n",
    "\n",
    "    row['content'] = stem_text(row['content'])\n",
    "    print(f\"After stemming: {row['content']}\")\n",
    "\n",
    "    # Update the dataframe with processed content\n",
    "    df.at[index, 'content'] = row['content']\n",
    "    print(\"------\")\n",
    "\n",
    "# Menyimpan kembali ke file excel atau menampilkan hasil\n",
    "df.to_excel('dataset-MSTeam-after-preprocess.xlsx', index=False)\n",
    "print(df.head())\n"
   ]
  },
  {
   "cell_type": "code",
   "execution_count": null,
   "id": "950eb6ae",
   "metadata": {},
   "outputs": [],
   "source": []
  }
 ],
 "metadata": {
  "kernelspec": {
   "display_name": "Python 3 (ipykernel)",
   "language": "python",
   "name": "python3"
  },
  "language_info": {
   "codemirror_mode": {
    "name": "ipython",
    "version": 3
   },
   "file_extension": ".py",
   "mimetype": "text/x-python",
   "name": "python",
   "nbconvert_exporter": "python",
   "pygments_lexer": "ipython3",
   "version": "3.9.7"
  }
 },
 "nbformat": 4,
 "nbformat_minor": 5
}
